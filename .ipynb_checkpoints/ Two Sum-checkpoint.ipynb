{
 "cells": [
  {
   "cell_type": "markdown",
   "id": "21cefa2d",
   "metadata": {},
   "source": [
    "### Two Sum\n",
    "\n",
    "Given an array of integers nums and an integer target, return indices of the two numbers such that they add up to target.\n",
    "\n",
    "You may assume that each input would have exactly one solution, and you may not use the same element twice.\n",
    "\n",
    "You can return the answer in any order.\n",
    "\n",
    "\n",
    "##### Example 1:\n",
    "\n",
    "<code>Input: nums = [2,7,11,15], target = 9\n",
    "Output: [0,1]\n",
    "Explanation: Because nums[0] + nums[1] == 9, we return [0, 1].</code>\n",
    "\n",
    "##### Example 2:`\n",
    "\n",
    "<code>Input: nums = [3,2,4], target = 6\n",
    "Output: [1,2]</code>\n",
    "\n",
    "\n",
    "##### Example 3:\n",
    "\n",
    "<code>Input: nums = [3,3], target = 6\n",
    "Output: [0,1]</code>\n",
    " \n",
    "\n",
    "Constraints:\n",
    "\n",
    "```2 <= nums.length <= 104``` <br/>\n",
    "```-109 <= nums[i] <= 109``` <br/>\n",
    "```-109 <= target <= 109``` <br/>\n",
    "\n",
    "Only one valid answer exists.\n",
    " \n",
    "Follow-up: Can you come up with an algorithm that is less than O(n2) time complexity?\n",
    " "
   ]
  },
  {
   "cell_type": "code",
   "execution_count": 1,
   "id": "8c2b6cb7",
   "metadata": {},
   "outputs": [
    {
     "name": "stdout",
     "output_type": "stream",
     "text": [
      "[0, 1]\n",
      "[1, 2]\n",
      "[0, 1]\n"
     ]
    }
   ],
   "source": [
    "# Solution 1 - brute force\n",
    "# time complexity = O(n²)\n",
    "    \n",
    "def solution1(nums, target):\n",
    "    for i, n1 in enumerate(nums):\n",
    "            for x, n2 in enumerate(nums):\n",
    "                if i != x and n1 + n2 == target:\n",
    "                    return [i, x]\n",
    "                \n",
    "print(solution1([2,7,11,15], 9))\n",
    "print(solution1([3,2,4], 6))\n",
    "print(solution1([3,3], 6))"
   ]
  },
  {
   "cell_type": "code",
   "execution_count": 3,
   "id": "76fed1cf",
   "metadata": {},
   "outputs": [
    {
     "name": "stdout",
     "output_type": "stream",
     "text": [
      "[0, 1]\n",
      "[1, 2]\n",
      "[0, 1]\n"
     ]
    }
   ],
   "source": [
    "# Solution 2 - hash table (preferred)\n",
    "# time complexity = O(n)\n",
    "    \n",
    "def solution2(nums, target):\n",
    "    d = {}\n",
    "    for i, n in enumerate(nums):\n",
    "        r = target - n\n",
    "        if r in d: \n",
    "            return [d[r], i]\n",
    "        d[n] = i\n",
    "                \n",
    "print(solution2([2,7,11,15], 9))\n",
    "print(solution2([3,2,4], 6))\n",
    "print(solution2([3,3], 6))"
   ]
  }
 ],
 "metadata": {
  "kernelspec": {
   "display_name": "Python 3 (ipykernel)",
   "language": "python",
   "name": "python3"
  },
  "language_info": {
   "codemirror_mode": {
    "name": "ipython",
    "version": 3
   },
   "file_extension": ".py",
   "mimetype": "text/x-python",
   "name": "python",
   "nbconvert_exporter": "python",
   "pygments_lexer": "ipython3",
   "version": "3.10.5"
  }
 },
 "nbformat": 4,
 "nbformat_minor": 5
}
